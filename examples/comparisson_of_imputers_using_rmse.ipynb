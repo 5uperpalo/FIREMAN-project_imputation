{
 "cells": [
  {
   "cell_type": "markdown",
   "metadata": {},
   "source": [
    "# 1. Comparisson of Imputers using RMSE\n",
    "## 1.1. Import all needed packages"
   ]
  },
  {
   "cell_type": "code",
   "execution_count": 1,
   "metadata": {},
   "outputs": [],
   "source": [
    "import pandas as pd\n",
    "import numpy as np\n",
    "\n",
    "from sklearn.preprocessing import MinMaxScaler\n",
    "from fireman_imputation.src import utils\n",
    "from sklearn.model_selection import train_test_split\n",
    "\n",
    "from sklearn.experimental import enable_iterative_imputer\n",
    "from sklearn.impute import SimpleImputer, KNNImputer, IterativeImputer\n",
    "from sklearn import metrics\n",
    "\n",
    "import matplotlib.pyplot as plt"
   ]
  },
  {
   "cell_type": "markdown",
   "metadata": {},
   "source": [
    "## 1.2. Main\n",
    "### 1.2.1 Load the data"
   ]
  },
  {
   "cell_type": "code",
   "execution_count": 2,
   "metadata": {},
   "outputs": [],
   "source": [
    "# load and scale the data\n",
    "data_orig = pd.read_csv('data/spam.csv',index_col=False)\n",
    "data = data_orig.values\n",
    "\n",
    "# scale the data\n",
    "scaler = MinMaxScaler(feature_range=(0, 1))\n",
    "scaler.fit(data)\n",
    "data_scaled = scaler.transform(data)\n",
    "\n",
    "# create missing data mask\n",
    "data_scaled_missing, mask = utils.MCARgen(data_scaled, 0.2)\n",
    "\n",
    "# divide the data to train/test\n",
    "# by default shuffles data, if pandas is passed the index shows shuffle result\n",
    "data_missing_train, data_missing_test, data_train, data_test = train_test_split(data_scaled_missing, data_scaled, train_size=0.9)"
   ]
  },
  {
   "cell_type": "markdown",
   "metadata": {},
   "source": [
    "### 1.2.2 Run sklearn imputers"
   ]
  },
  {
   "cell_type": "code",
   "execution_count": 3,
   "metadata": {},
   "outputs": [
    {
     "name": "stderr",
     "output_type": "stream",
     "text": [
      "/home/palo/miniconda3/lib/python3.8/site-packages/sklearn/impute/_iterative.py:669: ConvergenceWarning: [IterativeImputer] Early stopping criterion not reached.\n",
      "  warnings.warn(\"[IterativeImputer] Early stopping criterion not\"\n"
     ]
    }
   ],
   "source": [
    "imp_mean = SimpleImputer(missing_values=np.nan, strategy='mean')\n",
    "imp_median = SimpleImputer(missing_values=np.nan, strategy='median')\n",
    "imp_most_frequent = SimpleImputer(missing_values=np.nan, strategy='most_frequent')\n",
    "imp_knn = KNNImputer(n_neighbors=2)\n",
    "imp_iter = IterativeImputer(max_iter=10, random_state=0)\n",
    "\n",
    "imp_mean.fit(data_missing_train)\n",
    "imp_median.fit(data_missing_train)\n",
    "imp_most_frequent.fit(data_missing_train)\n",
    "imp_knn.fit(data_missing_train)\n",
    "imp_iter.fit(data_missing_train)\n",
    "\n",
    "data_mean = imp_mean.transform(data_missing_test)\n",
    "data_median = imp_median.transform(data_missing_test)\n",
    "data_most_frequent = imp_most_frequent.transform(data_missing_test)\n",
    "data_knn = imp_knn.transform(data_missing_test)\n",
    "data_iter = imp_iter.transform(data_missing_test)\n",
    "\n",
    "data_mean_rmse = metrics.mean_squared_error(data_test, data_mean, squared=True)\n",
    "data_median_rmse = metrics.mean_squared_error(data_test, data_median, squared=True)\n",
    "data_most_frequent_rmse = metrics.mean_squared_error(data_test, data_most_frequent, squared=True)\n",
    "data_knn_rmse = metrics.mean_squared_error(data_test, data_knn, squared=True)\n",
    "data_iter_rmse = metrics.mean_squared_error(data_test, data_iter, squared=True)"
   ]
  },
  {
   "cell_type": "code",
   "execution_count": 41,
   "metadata": {},
   "outputs": [
    {
     "name": "stdout",
     "output_type": "stream",
     "text": [
      "RMSE between test and imputed data:\n",
      "Mean = 0.0007025419362472685\n",
      "Median = 0.0007663804477698816\n",
      "Most frequent = 0.0008034067442840705\n",
      "KNN = 0.000815383624897717\n",
      "Iterative = 0.0006423308784567793\n"
     ]
    }
   ],
   "source": [
    "print('RMSE between test and imputed data:\\nMean = {}\\nMedian = {}\\nMost frequent = {}\\n'\n",
    "      'KNN = {}\\nIterative = {}'.format(data_mean_rmse, data_median_rmse, \n",
    "                                        data_most_frequent_rmse, data_knn_rmse, data_iter_rmse))"
   ]
  }
 ],
 "metadata": {
  "kernelspec": {
   "display_name": "Python 3",
   "language": "python",
   "name": "python3"
  },
  "language_info": {
   "codemirror_mode": {
    "name": "ipython",
    "version": 3
   },
   "file_extension": ".py",
   "mimetype": "text/x-python",
   "name": "python",
   "nbconvert_exporter": "python",
   "pygments_lexer": "ipython3",
   "version": "3.8.5"
  }
 },
 "nbformat": 4,
 "nbformat_minor": 4
}
